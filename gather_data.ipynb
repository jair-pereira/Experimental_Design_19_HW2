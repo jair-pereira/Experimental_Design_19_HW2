{
 "cells": [
  {
   "cell_type": "markdown",
   "metadata": {},
   "source": [
    "## GATHER DATA"
   ]
  },
  {
   "cell_type": "code",
   "execution_count": 2,
   "metadata": {},
   "outputs": [],
   "source": [
    "import os"
   ]
  },
  {
   "cell_type": "code",
   "execution_count": 2,
   "metadata": {},
   "outputs": [],
   "source": [
    "#os.mkdir(\"data_raw/\")\n",
    "os.mkdir(\"data_raw/0.25\")\n",
    "os.mkdir(\"data_raw/0.5\")\n",
    "os.mkdir(\"data_raw/0.75\")\n",
    "#os.mkdir(\"data_raw/1\")"
   ]
  },
  {
   "cell_type": "code",
   "execution_count": 3,
   "metadata": {},
   "outputs": [],
   "source": [
    "def gather(a, f, n, rep):\n",
    "    print(n, f)\n",
    "    output = a+\"_\"+str(n)+\".txt\"\n",
    "    for r in range(rep):\n",
    "        os.system(\"python sort.py -n \"+str(n)+\" -a \"+a+\" -f \"+str(f)+\" >> data_raw/\"+str(f)+\"/\"+output)"
   ]
  },
  {
   "cell_type": "code",
   "execution_count": null,
   "metadata": {},
   "outputs": [],
   "source": [
    "# input sizes for question (1) and (2)\n",
    "n = [2, 4, 8, 16, 32, 64, 128, 256, 512, 1024, 2048, 2896, 4096]"
   ]
  },
  {
   "cell_type": "markdown",
   "metadata": {},
   "source": [
    "## Question 1 and 2"
   ]
  },
  {
   "cell_type": "code",
   "execution_count": null,
   "metadata": {
    "collapsed": true
   },
   "outputs": [
    {
     "name": "stdout",
     "output_type": "stream",
     "text": [
      "2 1\n",
      "4 1\n",
      "8 1\n",
      "16 1\n",
      "32 1\n",
      "64 1\n",
      "128 1\n",
      "256 1\n",
      "512 1\n",
      "1024 1\n",
      "2048 1\n",
      "2896 1\n",
      "4096 1\n",
      "5792 1\n"
     ]
    }
   ],
   "source": [
    "[gather(\"quick\", 1, i, 206) for i in n]"
   ]
  },
  {
   "cell_type": "markdown",
   "metadata": {},
   "source": [
    "## Question 2"
   ]
  },
  {
   "cell_type": "code",
   "execution_count": null,
   "metadata": {},
   "outputs": [
    {
     "name": "stdout",
     "output_type": "stream",
     "text": [
      "512 1\n",
      "1024 1\n"
     ]
    }
   ],
   "source": [
    "n = [512, 1024]#, 2048, 2896, 4096]\n",
    "[gather(\"bubble\", 1, i, 206) for i in n]"
   ]
  },
  {
   "cell_type": "markdown",
   "metadata": {},
   "source": [
    "## Question 3"
   ]
  },
  {
   "cell_type": "code",
   "execution_count": 5,
   "metadata": {},
   "outputs": [],
   "source": [
    "n = [32, 512, 1024, 4096] # input size for question (3)\n",
    "f = [0.25, 0.50, 0.75]    # success rate for question (3)"
   ]
  },
  {
   "cell_type": "code",
   "execution_count": null,
   "metadata": {},
   "outputs": [
    {
     "name": "stdout",
     "output_type": "stream",
     "text": [
      "32 0.25\n",
      "32 0.5\n",
      "32 0.75\n",
      "512 0.25\n",
      "512 0.5\n",
      "512 0.75\n",
      "1024 0.25\n",
      "1024 0.5\n",
      "1024 0.75\n",
      "4096 0.25\n",
      "4096 0.5\n",
      "4096 0.75\n"
     ]
    },
    {
     "data": {
      "text/plain": [
       "[None, None, None, None, None, None, None, None, None, None, None, None]"
      ]
     },
     "execution_count": 5,
     "metadata": {},
     "output_type": "execute_result"
    }
   ],
   "source": [
    "[gather(\"quick\", j, i, 206) for i in n for j in f]"
   ]
  },
  {
   "cell_type": "code",
   "execution_count": 6,
   "metadata": {},
   "outputs": [
    {
     "name": "stdout",
     "output_type": "stream",
     "text": [
      "32 0.25\n",
      "32 0.5\n",
      "32 0.75\n",
      "512 0.25\n",
      "512 0.5\n",
      "512 0.75\n",
      "1024 0.25\n",
      "1024 0.5\n",
      "1024 0.75\n"
     ]
    },
    {
     "data": {
      "text/plain": [
       "[None, None, None, None, None, None, None, None, None]"
      ]
     },
     "execution_count": 6,
     "metadata": {},
     "output_type": "execute_result"
    }
   ],
   "source": [
    "n = [32, 512, 1024]\n",
    "[gather(\"bubble\", j, i, 206) for i in n for j in f]"
   ]
  }
 ],
 "metadata": {
  "kernelspec": {
   "display_name": "Python 3",
   "language": "python",
   "name": "python3"
  },
  "language_info": {
   "codemirror_mode": {
    "name": "ipython",
    "version": 3
   },
   "file_extension": ".py",
   "mimetype": "text/x-python",
   "name": "python",
   "nbconvert_exporter": "python",
   "pygments_lexer": "ipython3",
   "version": "3.6.6"
  }
 },
 "nbformat": 4,
 "nbformat_minor": 2
}
