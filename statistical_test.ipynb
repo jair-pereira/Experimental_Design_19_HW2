{
 "cells": [
  {
   "cell_type": "code",
   "execution_count": 238,
   "metadata": {},
   "outputs": [
    {
     "data": {
      "text/html": [
       "205.810062476353"
      ],
      "text/latex": [
       "205.810062476353"
      ],
      "text/markdown": [
       "205.810062476353"
      ],
      "text/plain": [
       "[1] 205.8101"
      ]
     },
     "metadata": {},
     "output_type": "display_data"
    },
    {
     "data": {
      "text/html": [
       "254.412438383472"
      ],
      "text/latex": [
       "254.412438383472"
      ],
      "text/markdown": [
       "254.412438383472"
      ],
      "text/plain": [
       "[1] 254.4124"
      ]
     },
     "metadata": {},
     "output_type": "display_data"
    }
   ],
   "source": [
    "# pilot\n",
    "data1 <- read.csv(file = \"data_old/100/bubble_1024.txt\", header = 0)\n",
    "data2 <- read.csv(file = \"data_old/100/quick_1024.txt\", header = 0)\n",
    "\n",
    "#time\n",
    "power.t.test(power = 0.95, delta = 0.005, sd = sd(data1$V1 - data1$V2), sig.level = 0.01, type = \"two.sample\")$n\n",
    "#comp\n",
    "power.t.test(power = 0.80, delta = 100, sd = sd(data2$V2), sig.level = 0.05, type = \"one.sample\")$n"
   ]
  },
  {
   "cell_type": "code",
   "execution_count": 115,
   "metadata": {},
   "outputs": [
    {
     "data": {
      "text/html": [
       "209.008313880968"
      ],
      "text/latex": [
       "209.008313880968"
      ],
      "text/markdown": [
       "209.008313880968"
      ],
      "text/plain": [
       "[1] 209.0083"
      ]
     },
     "metadata": {},
     "output_type": "display_data"
    },
    {
     "data": {
      "text/html": [
       "6568859.98932557"
      ],
      "text/latex": [
       "6568859.98932557"
      ],
      "text/markdown": [
       "6568859.98932557"
      ],
      "text/plain": [
       "[1] 6568860"
      ]
     },
     "metadata": {},
     "output_type": "display_data"
    },
    {
     "data": {
      "text/html": [
       "109.184672560967"
      ],
      "text/latex": [
       "109.184672560967"
      ],
      "text/markdown": [
       "109.184672560967"
      ],
      "text/plain": [
       "[1] 109.1847"
      ]
     },
     "metadata": {},
     "output_type": "display_data"
    }
   ],
   "source": [
    "# checking\n",
    "data11 <- read.csv(file = \"data_raw/1/quick_1024.txt\", header = 0)\n",
    "data12 <- read.csv(file = \"data_raw/1/bubble_1024.txt\", header = 0)\n",
    "data21  <- read.csv(file = \"data_raw/0.5/quick_1024.txt\", header = 0)\n",
    "data22  <- read.csv(file = \"data_raw/0.5/bubble_1024.txt\", header = 0)\n",
    "\n",
    "#time\n",
    "power.t.test(power = 0.95, delta = 0.005, sd = sd(data11$V1 - data12$V1), sig.level = 0.01, type = \"two.sample\")$n\n",
    "#comp\n",
    "power.t.test(power = 0.95, delta = 1, sd = sd(data11$V2), sig.level = 0.01, type = \"one.sample\")$n\n",
    "#error\n",
    "power.t.test(power = 0.95, delta = 1, sd = sd(data21$V3 - data22$V3), sig.level = 0.01, type = \"two.sample\")$n"
   ]
  },
  {
   "cell_type": "code",
   "execution_count": 232,
   "metadata": {},
   "outputs": [
    {
     "data": {
      "text/html": [
       "<table>\n",
       "<tbody>\n",
       "\t<tr><td>4            </td><td>1.072765e-120</td></tr>\n",
       "\t<tr><td>8           </td><td>6.375476e-98</td></tr>\n",
       "\t<tr><td>16          </td><td>1.908515e-63</td></tr>\n",
       "\t<tr><td>32          </td><td>6.230718e-38</td></tr>\n",
       "\t<tr><td>64          </td><td>2.849625e-19</td></tr>\n",
       "\t<tr><td>128         </td><td>0.0005106197</td></tr>\n",
       "\t<tr><td>256         </td><td>1.488629e-10</td></tr>\n",
       "\t<tr><td>512         </td><td>1.190204e-39</td></tr>\n",
       "\t<tr><td>1024       </td><td>6.95768e-65</td></tr>\n",
       "</tbody>\n",
       "</table>\n"
      ],
      "text/latex": [
       "\\begin{tabular}{ll}\n",
       "\t 4             & 1.072765e-120\\\\\n",
       "\t 8            & 6.375476e-98\\\\\n",
       "\t 16           & 1.908515e-63\\\\\n",
       "\t 32           & 6.230718e-38\\\\\n",
       "\t 64           & 2.849625e-19\\\\\n",
       "\t 128          & 0.0005106197\\\\\n",
       "\t 256          & 1.488629e-10\\\\\n",
       "\t 512          & 1.190204e-39\\\\\n",
       "\t 1024        & 6.95768e-65\\\\\n",
       "\\end{tabular}\n"
      ],
      "text/markdown": [
       "\n",
       "| 4             | 1.072765e-120 | \n",
       "| 8            | 6.375476e-98 | \n",
       "| 16           | 1.908515e-63 | \n",
       "| 32           | 6.230718e-38 | \n",
       "| 64           | 2.849625e-19 | \n",
       "| 128          | 0.0005106197 | \n",
       "| 256          | 1.488629e-10 | \n",
       "| 512          | 1.190204e-39 | \n",
       "| 1024        | 6.95768e-65 | \n",
       "\n",
       "\n"
      ],
      "text/plain": [
       "      [,1] [,2]         \n",
       " [1,] 4    1.072765e-120\n",
       " [2,] 8    6.375476e-98 \n",
       " [3,] 16   1.908515e-63 \n",
       " [4,] 32   6.230718e-38 \n",
       " [5,] 64   2.849625e-19 \n",
       " [6,] 128  0.0005106197 \n",
       " [7,] 256  1.488629e-10 \n",
       " [8,] 512  1.190204e-39 \n",
       " [9,] 1024 6.95768e-65  "
      ]
     },
     "metadata": {},
     "output_type": "display_data"
    }
   ],
   "source": [
    "#QUESTION 1\n",
    "n <- c(4,8,16,32,64,128,256,512,1024)\n",
    "pvalues <- t(sapply(n, FUN = function(x) {\n",
    "    data <- read.csv(file = paste(\"data_raw/1/quick_\", x, \".txt\", sep=\"\"), header = 0)\n",
    "    list(x, t.test(data$V2, alternative = \"two.side\", mu = x*log2(x), conf.level = 0.99)$p.value)\n",
    "    }))\n",
    "\n",
    "pvalues\n",
    "#write.table(pvalues, file=\"q1.txt\", row.names = FALSE, col.names = FALSE, sep=\",\")"
   ]
  },
  {
   "cell_type": "code",
   "execution_count": 252,
   "metadata": {},
   "outputs": [
    {
     "data": {
      "text/plain": [
       "\n",
       "\tOne Sample t-test\n",
       "\n",
       "data:  data$V2\n",
       "t = 25.266, df = 205, p-value < 2.2e-16\n",
       "alternative hypothesis: true mean is not equal to 10240\n",
       "99 percent confidence interval:\n",
       " 11198.98 11418.98\n",
       "sample estimates:\n",
       "mean of x \n",
       " 11308.98 \n"
      ]
     },
     "metadata": {},
     "output_type": "display_data"
    }
   ],
   "source": [
    "x <- 1024\n",
    "data.q <- read.csv(file = paste(\"data_raw/1/quick_\", x, \".txt\", sep=\"\"), header = 0)\n",
    "t.test(data$V2, alternative = \"two.side\", mu = x*log2(x), conf.level = 0.99)"
   ]
  },
  {
   "cell_type": "code",
   "execution_count": 206,
   "metadata": {},
   "outputs": [],
   "source": [
    "#QUESTION 2\n",
    "n <- c(2,8,16,32,64,128,256,512,1024)\n",
    "pvalues <- t(sapply(n, FUN = function(x) {\n",
    "    data.q <- read.csv(file = paste(\"data_raw/1/quick_\", x, \".txt\", sep=\"\"), header = 0)\n",
    "    data.b <- read.csv(file = paste(\"data_raw/1/bubble_\", x, \".txt\", sep=\"\"), header = 0)\n",
    "    list(x, t.test(data.q$V1 - data.b$V1)$p.value)\n",
    "    }))\n",
    "\n",
    "pvalues\n",
    "#write.table(pvalues, file=\"q2.txt\", row.names = FALSE, col.names = FALSE, sep=\",\")"
   ]
  },
  {
   "cell_type": "code",
   "execution_count": 244,
   "metadata": {},
   "outputs": [
    {
     "data": {
      "text/plain": [
       "\n",
       "\tOne Sample t-test\n",
       "\n",
       "data:  data.q$V1 - data.b$V1\n",
       "t = -483.82, df = 205, p-value < 2.2e-16\n",
       "alternative hypothesis: true mean is not equal to 0\n",
       "95 percent confidence interval:\n",
       " -0.4082591 -0.4049453\n",
       "sample estimates:\n",
       " mean of x \n",
       "-0.4066022 \n"
      ]
     },
     "metadata": {},
     "output_type": "display_data"
    }
   ],
   "source": [
    "x <- 1024\n",
    "data.q <- read.csv(file = paste(\"data_raw/1/quick_\", x, \".txt\", sep=\"\"), header = 0)\n",
    "data.b <- read.csv(file = paste(\"data_raw/1/bubble_\", x, \".txt\", sep=\"\"), header = 0)\n",
    "\n",
    "t.test(data.q$V1 - data.b$V1)"
   ]
  },
  {
   "cell_type": "code",
   "execution_count": 267,
   "metadata": {},
   "outputs": [
    {
     "data": {
      "text/plain": [
       "\n",
       "\tPaired t-test\n",
       "\n",
       "data:  x <- data.q$TIME and y <- data.b$TIME\n",
       "t = -1.3337, df = 9, p-value = 0.8925\n",
       "alternative hypothesis: true difference in means is greater than 0\n",
       "99 percent confidence interval:\n",
       " -0.1679323        Inf\n",
       "sample estimates:\n",
       "mean of the differences \n",
       "            -0.05390096 \n"
      ]
     },
     "metadata": {},
     "output_type": "display_data"
    },
    {
     "data": {
      "text/html": [
       "<table>\n",
       "<thead><tr><th scope=col>N</th><th scope=col>TIME</th><th scope=col>COMP</th><th scope=col>ERR</th><th scope=col>TIME_SD</th><th scope=col>COMP_SD</th><th scope=col>ERR_SD</th></tr></thead>\n",
       "<tbody>\n",
       "\t<tr><td>   2        </td><td>1.506667e-05</td><td>    1.000000</td><td>0           </td><td>1.865176e-06</td><td>  0.0000000 </td><td>0           </td></tr>\n",
       "\t<tr><td>   4        </td><td>2.018804e-05</td><td>    4.776699</td><td>0           </td><td>1.536058e-06</td><td>  0.8827014 </td><td>0           </td></tr>\n",
       "\t<tr><td>   8        </td><td>3.258001e-05</td><td>   16.854369</td><td>0           </td><td>4.497697e-06</td><td>  2.5923255 </td><td>0           </td></tr>\n",
       "\t<tr><td>  16        </td><td>6.236613e-05</td><td>   51.514563</td><td>0           </td><td>6.240391e-06</td><td>  7.2460103 </td><td>0           </td></tr>\n",
       "\t<tr><td>  32        </td><td>1.348535e-04</td><td>  140.417476</td><td>0           </td><td>1.772807e-05</td><td> 17.5655007 </td><td>0           </td></tr>\n",
       "\t<tr><td>  64        </td><td>3.102127e-04</td><td>  358.665049</td><td>0           </td><td>3.199318e-05</td><td> 36.5577317 </td><td>0           </td></tr>\n",
       "\t<tr><td> 128        </td><td>7.158147e-04</td><td>  879.514563</td><td>0           </td><td>6.682904e-05</td><td> 67.0029288 </td><td>0           </td></tr>\n",
       "\t<tr><td> 256        </td><td>1.660884e-03</td><td> 2120.427184</td><td>0           </td><td>1.320058e-04</td><td>154.0057080 </td><td>0           </td></tr>\n",
       "\t<tr><td> 512        </td><td>3.867446e-03</td><td> 4997.723301</td><td>0           </td><td>2.711177e-04</td><td>337.8543287 </td><td>0           </td></tr>\n",
       "\t<tr><td>1024        </td><td>8.783350e-03</td><td>11308.980583</td><td>0           </td><td>5.634706e-04</td><td>607.2425076 </td><td>0           </td></tr>\n",
       "</tbody>\n",
       "</table>\n"
      ],
      "text/latex": [
       "\\begin{tabular}{r|lllllll}\n",
       " N & TIME & COMP & ERR & TIME\\_SD & COMP\\_SD & ERR\\_SD\\\\\n",
       "\\hline\n",
       "\t    2         & 1.506667e-05 &     1.000000 & 0            & 1.865176e-06 &   0.0000000  & 0           \\\\\n",
       "\t    4         & 2.018804e-05 &     4.776699 & 0            & 1.536058e-06 &   0.8827014  & 0           \\\\\n",
       "\t    8         & 3.258001e-05 &    16.854369 & 0            & 4.497697e-06 &   2.5923255  & 0           \\\\\n",
       "\t   16         & 6.236613e-05 &    51.514563 & 0            & 6.240391e-06 &   7.2460103  & 0           \\\\\n",
       "\t   32         & 1.348535e-04 &   140.417476 & 0            & 1.772807e-05 &  17.5655007  & 0           \\\\\n",
       "\t   64         & 3.102127e-04 &   358.665049 & 0            & 3.199318e-05 &  36.5577317  & 0           \\\\\n",
       "\t  128         & 7.158147e-04 &   879.514563 & 0            & 6.682904e-05 &  67.0029288  & 0           \\\\\n",
       "\t  256         & 1.660884e-03 &  2120.427184 & 0            & 1.320058e-04 & 154.0057080  & 0           \\\\\n",
       "\t  512         & 3.867446e-03 &  4997.723301 & 0            & 2.711177e-04 & 337.8543287  & 0           \\\\\n",
       "\t 1024         & 8.783350e-03 & 11308.980583 & 0            & 5.634706e-04 & 607.2425076  & 0           \\\\\n",
       "\\end{tabular}\n"
      ],
      "text/markdown": [
       "\n",
       "N | TIME | COMP | ERR | TIME_SD | COMP_SD | ERR_SD | \n",
       "|---|---|---|---|---|---|---|---|---|---|\n",
       "|    2         | 1.506667e-05 |     1.000000 | 0            | 1.865176e-06 |   0.0000000  | 0            | \n",
       "|    4         | 2.018804e-05 |     4.776699 | 0            | 1.536058e-06 |   0.8827014  | 0            | \n",
       "|    8         | 3.258001e-05 |    16.854369 | 0            | 4.497697e-06 |   2.5923255  | 0            | \n",
       "|   16         | 6.236613e-05 |    51.514563 | 0            | 6.240391e-06 |   7.2460103  | 0            | \n",
       "|   32         | 1.348535e-04 |   140.417476 | 0            | 1.772807e-05 |  17.5655007  | 0            | \n",
       "|   64         | 3.102127e-04 |   358.665049 | 0            | 3.199318e-05 |  36.5577317  | 0            | \n",
       "|  128         | 7.158147e-04 |   879.514563 | 0            | 6.682904e-05 |  67.0029288  | 0            | \n",
       "|  256         | 1.660884e-03 |  2120.427184 | 0            | 1.320058e-04 | 154.0057080  | 0            | \n",
       "|  512         | 3.867446e-03 |  4997.723301 | 0            | 2.711177e-04 | 337.8543287  | 0            | \n",
       "| 1024         | 8.783350e-03 | 11308.980583 | 0            | 5.634706e-04 | 607.2425076  | 0            | \n",
       "\n",
       "\n"
      ],
      "text/plain": [
       "   N    TIME         COMP         ERR TIME_SD      COMP_SD     ERR_SD\n",
       "1     2 1.506667e-05     1.000000 0   1.865176e-06   0.0000000 0     \n",
       "2     4 2.018804e-05     4.776699 0   1.536058e-06   0.8827014 0     \n",
       "3     8 3.258001e-05    16.854369 0   4.497697e-06   2.5923255 0     \n",
       "4    16 6.236613e-05    51.514563 0   6.240391e-06   7.2460103 0     \n",
       "5    32 1.348535e-04   140.417476 0   1.772807e-05  17.5655007 0     \n",
       "6    64 3.102127e-04   358.665049 0   3.199318e-05  36.5577317 0     \n",
       "7   128 7.158147e-04   879.514563 0   6.682904e-05  67.0029288 0     \n",
       "8   256 1.660884e-03  2120.427184 0   1.320058e-04 154.0057080 0     \n",
       "9   512 3.867446e-03  4997.723301 0   2.711177e-04 337.8543287 0     \n",
       "10 1024 8.783350e-03 11308.980583 0   5.634706e-04 607.2425076 0     "
      ]
     },
     "metadata": {},
     "output_type": "display_data"
    }
   ],
   "source": [
    "#se eu for fazer nas medias\n",
    "data.q <- read.csv(file = \"data_p/1/quick.txt\", header = 1)\n",
    "data.b <- read.csv(file = \"data_p/1/bubble.txt\", header = 1)\n",
    "\n",
    "t.test(x=data.q$TIME, y=data.b$TIME, paired=TRUE, alternative=\"greater\", conf.level = 0.99)"
   ]
  },
  {
   "cell_type": "code",
   "execution_count": 290,
   "metadata": {},
   "outputs": [
    {
     "data": {
      "text/plain": [
       "\n",
       "\tPaired t-test\n",
       "\n",
       "data:  data.q$V1 and data.b$V1\n",
       "t = -2.5714, df = 3913, p-value = 0.01017\n",
       "alternative hypothesis: true difference in means is not equal to 0\n",
       "95 percent confidence interval:\n",
       " -0.42208399 -0.05688761\n",
       "sample estimates:\n",
       "mean of the differences \n",
       "             -0.2394858 \n"
      ]
     },
     "metadata": {},
     "output_type": "display_data"
    }
   ],
   "source": [
    "#QUESTION 2\n",
    "n <- c(2,8,16,32,64,128,256,512,1024, 2048)\n",
    "data.q <- data.frame()\n",
    "data.b <- data.frame()\n",
    "\n",
    "for(x in n){\n",
    "    data.q <- rbind(data.q, cbind(N=x, data.frame(read.csv(file = paste(\"data_raw/1/quick_\", x, \".txt\", sep=\"\"), header = 0))))\n",
    "    data.b <- rbind(data.b, cbind(N=x, data.frame(read.csv(file = paste(\"data_raw/1/bubble_\", x, \".txt\", sep=\"\"), header = 0))))\n",
    "   }\n",
    "\n",
    "t.test(x=data.q$V1, y=data.b$V1, paired=TRUE, type=\"less\")"
   ]
  },
  {
   "cell_type": "code",
   "execution_count": null,
   "metadata": {},
   "outputs": [],
   "source": []
  },
  {
   "cell_type": "code",
   "execution_count": 283,
   "metadata": {},
   "outputs": [
    {
     "data": {
      "text/plain": [
       "\n",
       "\tPaired t-test\n",
       "\n",
       "data:  data.q$V1 and data.b$V1\n",
       "t = -1.6205, df = 3707, p-value = 0.1052\n",
       "alternative hypothesis: true difference in means is not equal to 0\n",
       "99 percent confidence interval:\n",
       " -0.41196323  0.09388573\n",
       "sample estimates:\n",
       "mean of the differences \n",
       "             -0.1590388 \n"
      ]
     },
     "metadata": {},
     "output_type": "display_data"
    }
   ],
   "source": []
  },
  {
   "cell_type": "code",
   "execution_count": 276,
   "metadata": {
    "collapsed": true
   },
   "outputs": [
    {
     "data": {
      "text/html": [
       "<table>\n",
       "<thead><tr><th scope=col>N</th><th scope=col>V1</th><th scope=col>V2</th><th scope=col>V3</th><th scope=col>V4</th></tr></thead>\n",
       "<tbody>\n",
       "\t<tr><td>1024       </td><td>0.009425879</td><td>11644      </td><td>0          </td><td> quick     </td></tr>\n",
       "\t<tr><td>1024       </td><td>0.009166002</td><td>11788      </td><td>0          </td><td> quick     </td></tr>\n",
       "\t<tr><td>1024       </td><td>0.009787083</td><td>11716      </td><td>0          </td><td> quick     </td></tr>\n",
       "\t<tr><td>1024       </td><td>0.008512735</td><td>11077      </td><td>0          </td><td> quick     </td></tr>\n",
       "\t<tr><td>1024       </td><td>0.008795261</td><td>11206      </td><td>0          </td><td> quick     </td></tr>\n",
       "\t<tr><td>1024       </td><td>0.008638859</td><td>10734      </td><td>0          </td><td> quick     </td></tr>\n",
       "\t<tr><td>1024       </td><td>0.007826805</td><td>10559      </td><td>0          </td><td> quick     </td></tr>\n",
       "\t<tr><td>1024       </td><td>0.009320974</td><td>11279      </td><td>0          </td><td> quick     </td></tr>\n",
       "\t<tr><td>1024       </td><td>0.009273052</td><td>12051      </td><td>0          </td><td> quick     </td></tr>\n",
       "\t<tr><td>1024       </td><td>0.009941101</td><td>12624      </td><td>0          </td><td> quick     </td></tr>\n",
       "\t<tr><td>1024       </td><td>0.009015083</td><td>11480      </td><td>0          </td><td> quick     </td></tr>\n",
       "\t<tr><td>1024       </td><td>0.008143902</td><td>10241      </td><td>0          </td><td> quick     </td></tr>\n",
       "\t<tr><td>1024       </td><td>0.009795904</td><td>12531      </td><td>0          </td><td> quick     </td></tr>\n",
       "\t<tr><td>1024       </td><td>0.008672953</td><td>11135      </td><td>0          </td><td> quick     </td></tr>\n",
       "\t<tr><td>1024       </td><td>0.009360075</td><td>11635      </td><td>0          </td><td> quick     </td></tr>\n",
       "\t<tr><td>1024       </td><td>0.008712053</td><td>10930      </td><td>0          </td><td> quick     </td></tr>\n",
       "\t<tr><td>1024       </td><td>0.008755922</td><td>11647      </td><td>0          </td><td> quick     </td></tr>\n",
       "\t<tr><td>1024       </td><td>0.008983612</td><td>11495      </td><td>0          </td><td> quick     </td></tr>\n",
       "\t<tr><td>1024       </td><td>0.008488894</td><td>11279      </td><td>0          </td><td> quick     </td></tr>\n",
       "\t<tr><td>1024       </td><td>0.008236170</td><td>11346      </td><td>0          </td><td> quick     </td></tr>\n",
       "\t<tr><td>1024       </td><td>0.007979155</td><td>10517      </td><td>0          </td><td> quick     </td></tr>\n",
       "\t<tr><td>1024       </td><td>0.008302689</td><td>11405      </td><td>0          </td><td> quick     </td></tr>\n",
       "\t<tr><td>1024       </td><td>0.007550955</td><td>10189      </td><td>0          </td><td> quick     </td></tr>\n",
       "\t<tr><td>1024       </td><td>0.008664131</td><td>11133      </td><td>0          </td><td> quick     </td></tr>\n",
       "\t<tr><td>1024       </td><td>0.008104801</td><td>10667      </td><td>0          </td><td> quick     </td></tr>\n",
       "\t<tr><td>1024       </td><td>0.008568048</td><td>11048      </td><td>0          </td><td> quick     </td></tr>\n",
       "\t<tr><td>1024       </td><td>0.008548021</td><td>11095      </td><td>0          </td><td> quick     </td></tr>\n",
       "\t<tr><td>1024       </td><td>0.008687735</td><td>11325      </td><td>0          </td><td> quick     </td></tr>\n",
       "\t<tr><td>1024       </td><td>0.008099079</td><td>10293      </td><td>0          </td><td> quick     </td></tr>\n",
       "\t<tr><td>1024       </td><td>0.009050846</td><td>11368      </td><td>0          </td><td> quick     </td></tr>\n",
       "\t<tr><td>⋮</td><td>⋮</td><td>⋮</td><td>⋮</td><td>⋮</td></tr>\n",
       "\t<tr><td>1024       </td><td>0.008512974</td><td>11014      </td><td>0          </td><td> quick     </td></tr>\n",
       "\t<tr><td>1024       </td><td>0.007696867</td><td>10264      </td><td>0          </td><td> quick     </td></tr>\n",
       "\t<tr><td>1024       </td><td>0.008329868</td><td>11018      </td><td>0          </td><td> quick     </td></tr>\n",
       "\t<tr><td>1024       </td><td>0.008393049</td><td>11203      </td><td>0          </td><td> quick     </td></tr>\n",
       "\t<tr><td>1024       </td><td>0.009438276</td><td>12457      </td><td>0          </td><td> quick     </td></tr>\n",
       "\t<tr><td>1024       </td><td>0.009675026</td><td>11994      </td><td>0          </td><td> quick     </td></tr>\n",
       "\t<tr><td>1024       </td><td>0.009262800</td><td>11739      </td><td>0          </td><td> quick     </td></tr>\n",
       "\t<tr><td>1024       </td><td>0.008259058</td><td>11248      </td><td>0          </td><td> quick     </td></tr>\n",
       "\t<tr><td>1024       </td><td>0.008112907</td><td>10679      </td><td>0          </td><td> quick     </td></tr>\n",
       "\t<tr><td>1024       </td><td>0.008758068</td><td>11312      </td><td>0          </td><td> quick     </td></tr>\n",
       "\t<tr><td>1024       </td><td>0.008563995</td><td>10960      </td><td>0          </td><td> quick     </td></tr>\n",
       "\t<tr><td>1024       </td><td>0.008285284</td><td>11116      </td><td>0          </td><td> quick     </td></tr>\n",
       "\t<tr><td>1024       </td><td>0.008313179</td><td>11088      </td><td>0          </td><td> quick     </td></tr>\n",
       "\t<tr><td>1024       </td><td>0.009310961</td><td>11788      </td><td>0          </td><td> quick     </td></tr>\n",
       "\t<tr><td>1024       </td><td>0.008383989</td><td>10883      </td><td>0          </td><td> quick     </td></tr>\n",
       "\t<tr><td>1024       </td><td>0.009146690</td><td>11609      </td><td>0          </td><td> quick     </td></tr>\n",
       "\t<tr><td>1024       </td><td>0.009023905</td><td>11109      </td><td>0          </td><td> quick     </td></tr>\n",
       "\t<tr><td>1024       </td><td>0.009086847</td><td>12132      </td><td>0          </td><td> quick     </td></tr>\n",
       "\t<tr><td>1024       </td><td>0.008636951</td><td>11172      </td><td>0          </td><td> quick     </td></tr>\n",
       "\t<tr><td>1024       </td><td>0.008950949</td><td>11372      </td><td>0          </td><td> quick     </td></tr>\n",
       "\t<tr><td>1024       </td><td>0.008705139</td><td>10530      </td><td>0          </td><td> quick     </td></tr>\n",
       "\t<tr><td>1024       </td><td>0.009332418</td><td>11812      </td><td>0          </td><td> quick     </td></tr>\n",
       "\t<tr><td>1024       </td><td>0.009155035</td><td>11383      </td><td>0          </td><td> quick     </td></tr>\n",
       "\t<tr><td>1024       </td><td>0.009232044</td><td>11314      </td><td>0          </td><td> quick     </td></tr>\n",
       "\t<tr><td>1024       </td><td>0.008771181</td><td>11372      </td><td>0          </td><td> quick     </td></tr>\n",
       "\t<tr><td>1024       </td><td>0.008647919</td><td>10771      </td><td>0          </td><td> quick     </td></tr>\n",
       "\t<tr><td>1024       </td><td>0.008643866</td><td>10549      </td><td>0          </td><td> quick     </td></tr>\n",
       "\t<tr><td>1024       </td><td>0.008090258</td><td>11119      </td><td>0          </td><td> quick     </td></tr>\n",
       "\t<tr><td>1024       </td><td>0.008596182</td><td>11157      </td><td>0          </td><td> quick     </td></tr>\n",
       "\t<tr><td>1024       </td><td>0.008485079</td><td>10966      </td><td>0          </td><td> quick     </td></tr>\n",
       "</tbody>\n",
       "</table>\n"
      ],
      "text/latex": [
       "\\begin{tabular}{r|lllll}\n",
       " N & V1 & V2 & V3 & V4\\\\\n",
       "\\hline\n",
       "\t 1024        & 0.009425879 & 11644       & 0           &  quick     \\\\\n",
       "\t 1024        & 0.009166002 & 11788       & 0           &  quick     \\\\\n",
       "\t 1024        & 0.009787083 & 11716       & 0           &  quick     \\\\\n",
       "\t 1024        & 0.008512735 & 11077       & 0           &  quick     \\\\\n",
       "\t 1024        & 0.008795261 & 11206       & 0           &  quick     \\\\\n",
       "\t 1024        & 0.008638859 & 10734       & 0           &  quick     \\\\\n",
       "\t 1024        & 0.007826805 & 10559       & 0           &  quick     \\\\\n",
       "\t 1024        & 0.009320974 & 11279       & 0           &  quick     \\\\\n",
       "\t 1024        & 0.009273052 & 12051       & 0           &  quick     \\\\\n",
       "\t 1024        & 0.009941101 & 12624       & 0           &  quick     \\\\\n",
       "\t 1024        & 0.009015083 & 11480       & 0           &  quick     \\\\\n",
       "\t 1024        & 0.008143902 & 10241       & 0           &  quick     \\\\\n",
       "\t 1024        & 0.009795904 & 12531       & 0           &  quick     \\\\\n",
       "\t 1024        & 0.008672953 & 11135       & 0           &  quick     \\\\\n",
       "\t 1024        & 0.009360075 & 11635       & 0           &  quick     \\\\\n",
       "\t 1024        & 0.008712053 & 10930       & 0           &  quick     \\\\\n",
       "\t 1024        & 0.008755922 & 11647       & 0           &  quick     \\\\\n",
       "\t 1024        & 0.008983612 & 11495       & 0           &  quick     \\\\\n",
       "\t 1024        & 0.008488894 & 11279       & 0           &  quick     \\\\\n",
       "\t 1024        & 0.008236170 & 11346       & 0           &  quick     \\\\\n",
       "\t 1024        & 0.007979155 & 10517       & 0           &  quick     \\\\\n",
       "\t 1024        & 0.008302689 & 11405       & 0           &  quick     \\\\\n",
       "\t 1024        & 0.007550955 & 10189       & 0           &  quick     \\\\\n",
       "\t 1024        & 0.008664131 & 11133       & 0           &  quick     \\\\\n",
       "\t 1024        & 0.008104801 & 10667       & 0           &  quick     \\\\\n",
       "\t 1024        & 0.008568048 & 11048       & 0           &  quick     \\\\\n",
       "\t 1024        & 0.008548021 & 11095       & 0           &  quick     \\\\\n",
       "\t 1024        & 0.008687735 & 11325       & 0           &  quick     \\\\\n",
       "\t 1024        & 0.008099079 & 10293       & 0           &  quick     \\\\\n",
       "\t 1024        & 0.009050846 & 11368       & 0           &  quick     \\\\\n",
       "\t ⋮ & ⋮ & ⋮ & ⋮ & ⋮\\\\\n",
       "\t 1024        & 0.008512974 & 11014       & 0           &  quick     \\\\\n",
       "\t 1024        & 0.007696867 & 10264       & 0           &  quick     \\\\\n",
       "\t 1024        & 0.008329868 & 11018       & 0           &  quick     \\\\\n",
       "\t 1024        & 0.008393049 & 11203       & 0           &  quick     \\\\\n",
       "\t 1024        & 0.009438276 & 12457       & 0           &  quick     \\\\\n",
       "\t 1024        & 0.009675026 & 11994       & 0           &  quick     \\\\\n",
       "\t 1024        & 0.009262800 & 11739       & 0           &  quick     \\\\\n",
       "\t 1024        & 0.008259058 & 11248       & 0           &  quick     \\\\\n",
       "\t 1024        & 0.008112907 & 10679       & 0           &  quick     \\\\\n",
       "\t 1024        & 0.008758068 & 11312       & 0           &  quick     \\\\\n",
       "\t 1024        & 0.008563995 & 10960       & 0           &  quick     \\\\\n",
       "\t 1024        & 0.008285284 & 11116       & 0           &  quick     \\\\\n",
       "\t 1024        & 0.008313179 & 11088       & 0           &  quick     \\\\\n",
       "\t 1024        & 0.009310961 & 11788       & 0           &  quick     \\\\\n",
       "\t 1024        & 0.008383989 & 10883       & 0           &  quick     \\\\\n",
       "\t 1024        & 0.009146690 & 11609       & 0           &  quick     \\\\\n",
       "\t 1024        & 0.009023905 & 11109       & 0           &  quick     \\\\\n",
       "\t 1024        & 0.009086847 & 12132       & 0           &  quick     \\\\\n",
       "\t 1024        & 0.008636951 & 11172       & 0           &  quick     \\\\\n",
       "\t 1024        & 0.008950949 & 11372       & 0           &  quick     \\\\\n",
       "\t 1024        & 0.008705139 & 10530       & 0           &  quick     \\\\\n",
       "\t 1024        & 0.009332418 & 11812       & 0           &  quick     \\\\\n",
       "\t 1024        & 0.009155035 & 11383       & 0           &  quick     \\\\\n",
       "\t 1024        & 0.009232044 & 11314       & 0           &  quick     \\\\\n",
       "\t 1024        & 0.008771181 & 11372       & 0           &  quick     \\\\\n",
       "\t 1024        & 0.008647919 & 10771       & 0           &  quick     \\\\\n",
       "\t 1024        & 0.008643866 & 10549       & 0           &  quick     \\\\\n",
       "\t 1024        & 0.008090258 & 11119       & 0           &  quick     \\\\\n",
       "\t 1024        & 0.008596182 & 11157       & 0           &  quick     \\\\\n",
       "\t 1024        & 0.008485079 & 10966       & 0           &  quick     \\\\\n",
       "\\end{tabular}\n"
      ],
      "text/markdown": [
       "\n",
       "N | V1 | V2 | V3 | V4 | \n",
       "|---|---|---|---|---|---|---|---|---|---|---|---|---|---|---|---|---|---|---|---|---|---|---|---|---|---|---|---|---|---|---|---|---|---|---|---|---|---|---|---|---|---|---|---|---|---|---|---|---|---|---|---|---|---|---|---|---|---|---|---|---|\n",
       "| 1024        | 0.009425879 | 11644       | 0           |  quick      | \n",
       "| 1024        | 0.009166002 | 11788       | 0           |  quick      | \n",
       "| 1024        | 0.009787083 | 11716       | 0           |  quick      | \n",
       "| 1024        | 0.008512735 | 11077       | 0           |  quick      | \n",
       "| 1024        | 0.008795261 | 11206       | 0           |  quick      | \n",
       "| 1024        | 0.008638859 | 10734       | 0           |  quick      | \n",
       "| 1024        | 0.007826805 | 10559       | 0           |  quick      | \n",
       "| 1024        | 0.009320974 | 11279       | 0           |  quick      | \n",
       "| 1024        | 0.009273052 | 12051       | 0           |  quick      | \n",
       "| 1024        | 0.009941101 | 12624       | 0           |  quick      | \n",
       "| 1024        | 0.009015083 | 11480       | 0           |  quick      | \n",
       "| 1024        | 0.008143902 | 10241       | 0           |  quick      | \n",
       "| 1024        | 0.009795904 | 12531       | 0           |  quick      | \n",
       "| 1024        | 0.008672953 | 11135       | 0           |  quick      | \n",
       "| 1024        | 0.009360075 | 11635       | 0           |  quick      | \n",
       "| 1024        | 0.008712053 | 10930       | 0           |  quick      | \n",
       "| 1024        | 0.008755922 | 11647       | 0           |  quick      | \n",
       "| 1024        | 0.008983612 | 11495       | 0           |  quick      | \n",
       "| 1024        | 0.008488894 | 11279       | 0           |  quick      | \n",
       "| 1024        | 0.008236170 | 11346       | 0           |  quick      | \n",
       "| 1024        | 0.007979155 | 10517       | 0           |  quick      | \n",
       "| 1024        | 0.008302689 | 11405       | 0           |  quick      | \n",
       "| 1024        | 0.007550955 | 10189       | 0           |  quick      | \n",
       "| 1024        | 0.008664131 | 11133       | 0           |  quick      | \n",
       "| 1024        | 0.008104801 | 10667       | 0           |  quick      | \n",
       "| 1024        | 0.008568048 | 11048       | 0           |  quick      | \n",
       "| 1024        | 0.008548021 | 11095       | 0           |  quick      | \n",
       "| 1024        | 0.008687735 | 11325       | 0           |  quick      | \n",
       "| 1024        | 0.008099079 | 10293       | 0           |  quick      | \n",
       "| 1024        | 0.009050846 | 11368       | 0           |  quick      | \n",
       "| ⋮ | ⋮ | ⋮ | ⋮ | ⋮ | \n",
       "| 1024        | 0.008512974 | 11014       | 0           |  quick      | \n",
       "| 1024        | 0.007696867 | 10264       | 0           |  quick      | \n",
       "| 1024        | 0.008329868 | 11018       | 0           |  quick      | \n",
       "| 1024        | 0.008393049 | 11203       | 0           |  quick      | \n",
       "| 1024        | 0.009438276 | 12457       | 0           |  quick      | \n",
       "| 1024        | 0.009675026 | 11994       | 0           |  quick      | \n",
       "| 1024        | 0.009262800 | 11739       | 0           |  quick      | \n",
       "| 1024        | 0.008259058 | 11248       | 0           |  quick      | \n",
       "| 1024        | 0.008112907 | 10679       | 0           |  quick      | \n",
       "| 1024        | 0.008758068 | 11312       | 0           |  quick      | \n",
       "| 1024        | 0.008563995 | 10960       | 0           |  quick      | \n",
       "| 1024        | 0.008285284 | 11116       | 0           |  quick      | \n",
       "| 1024        | 0.008313179 | 11088       | 0           |  quick      | \n",
       "| 1024        | 0.009310961 | 11788       | 0           |  quick      | \n",
       "| 1024        | 0.008383989 | 10883       | 0           |  quick      | \n",
       "| 1024        | 0.009146690 | 11609       | 0           |  quick      | \n",
       "| 1024        | 0.009023905 | 11109       | 0           |  quick      | \n",
       "| 1024        | 0.009086847 | 12132       | 0           |  quick      | \n",
       "| 1024        | 0.008636951 | 11172       | 0           |  quick      | \n",
       "| 1024        | 0.008950949 | 11372       | 0           |  quick      | \n",
       "| 1024        | 0.008705139 | 10530       | 0           |  quick      | \n",
       "| 1024        | 0.009332418 | 11812       | 0           |  quick      | \n",
       "| 1024        | 0.009155035 | 11383       | 0           |  quick      | \n",
       "| 1024        | 0.009232044 | 11314       | 0           |  quick      | \n",
       "| 1024        | 0.008771181 | 11372       | 0           |  quick      | \n",
       "| 1024        | 0.008647919 | 10771       | 0           |  quick      | \n",
       "| 1024        | 0.008643866 | 10549       | 0           |  quick      | \n",
       "| 1024        | 0.008090258 | 11119       | 0           |  quick      | \n",
       "| 1024        | 0.008596182 | 11157       | 0           |  quick      | \n",
       "| 1024        | 0.008485079 | 10966       | 0           |  quick      | \n",
       "\n",
       "\n"
      ],
      "text/plain": [
       "    N    V1          V2    V3 V4    \n",
       "1   1024 0.009425879 11644 0   quick\n",
       "2   1024 0.009166002 11788 0   quick\n",
       "3   1024 0.009787083 11716 0   quick\n",
       "4   1024 0.008512735 11077 0   quick\n",
       "5   1024 0.008795261 11206 0   quick\n",
       "6   1024 0.008638859 10734 0   quick\n",
       "7   1024 0.007826805 10559 0   quick\n",
       "8   1024 0.009320974 11279 0   quick\n",
       "9   1024 0.009273052 12051 0   quick\n",
       "10  1024 0.009941101 12624 0   quick\n",
       "11  1024 0.009015083 11480 0   quick\n",
       "12  1024 0.008143902 10241 0   quick\n",
       "13  1024 0.009795904 12531 0   quick\n",
       "14  1024 0.008672953 11135 0   quick\n",
       "15  1024 0.009360075 11635 0   quick\n",
       "16  1024 0.008712053 10930 0   quick\n",
       "17  1024 0.008755922 11647 0   quick\n",
       "18  1024 0.008983612 11495 0   quick\n",
       "19  1024 0.008488894 11279 0   quick\n",
       "20  1024 0.008236170 11346 0   quick\n",
       "21  1024 0.007979155 10517 0   quick\n",
       "22  1024 0.008302689 11405 0   quick\n",
       "23  1024 0.007550955 10189 0   quick\n",
       "24  1024 0.008664131 11133 0   quick\n",
       "25  1024 0.008104801 10667 0   quick\n",
       "26  1024 0.008568048 11048 0   quick\n",
       "27  1024 0.008548021 11095 0   quick\n",
       "28  1024 0.008687735 11325 0   quick\n",
       "29  1024 0.008099079 10293 0   quick\n",
       "30  1024 0.009050846 11368 0   quick\n",
       "⋮   ⋮    ⋮           ⋮     ⋮  ⋮     \n",
       "383 1024 0.008512974 11014 0   quick\n",
       "384 1024 0.007696867 10264 0   quick\n",
       "385 1024 0.008329868 11018 0   quick\n",
       "386 1024 0.008393049 11203 0   quick\n",
       "387 1024 0.009438276 12457 0   quick\n",
       "388 1024 0.009675026 11994 0   quick\n",
       "389 1024 0.009262800 11739 0   quick\n",
       "390 1024 0.008259058 11248 0   quick\n",
       "391 1024 0.008112907 10679 0   quick\n",
       "392 1024 0.008758068 11312 0   quick\n",
       "393 1024 0.008563995 10960 0   quick\n",
       "394 1024 0.008285284 11116 0   quick\n",
       "395 1024 0.008313179 11088 0   quick\n",
       "396 1024 0.009310961 11788 0   quick\n",
       "397 1024 0.008383989 10883 0   quick\n",
       "398 1024 0.009146690 11609 0   quick\n",
       "399 1024 0.009023905 11109 0   quick\n",
       "400 1024 0.009086847 12132 0   quick\n",
       "401 1024 0.008636951 11172 0   quick\n",
       "402 1024 0.008950949 11372 0   quick\n",
       "403 1024 0.008705139 10530 0   quick\n",
       "404 1024 0.009332418 11812 0   quick\n",
       "405 1024 0.009155035 11383 0   quick\n",
       "406 1024 0.009232044 11314 0   quick\n",
       "407 1024 0.008771181 11372 0   quick\n",
       "408 1024 0.008647919 10771 0   quick\n",
       "409 1024 0.008643866 10549 0   quick\n",
       "410 1024 0.008090258 11119 0   quick\n",
       "411 1024 0.008596182 11157 0   quick\n",
       "412 1024 0.008485079 10966 0   quick"
      ]
     },
     "metadata": {},
     "output_type": "display_data"
    }
   ],
   "source": []
  },
  {
   "cell_type": "code",
   "execution_count": 273,
   "metadata": {},
   "outputs": [
    {
     "data": {
      "text/html": [
       "<table>\n",
       "<thead><tr><th scope=col>V1</th><th scope=col>V2</th><th scope=col>V3</th><th scope=col>V4</th></tr></thead>\n",
       "<tbody>\n",
       "\t<tr><td>0.009425879</td><td>11644      </td><td>0          </td><td> quick     </td></tr>\n",
       "\t<tr><td>0.009166002</td><td>11788      </td><td>0          </td><td> quick     </td></tr>\n",
       "\t<tr><td>0.009787083</td><td>11716      </td><td>0          </td><td> quick     </td></tr>\n",
       "\t<tr><td>0.008512735</td><td>11077      </td><td>0          </td><td> quick     </td></tr>\n",
       "\t<tr><td>0.008795261</td><td>11206      </td><td>0          </td><td> quick     </td></tr>\n",
       "\t<tr><td>0.008638859</td><td>10734      </td><td>0          </td><td> quick     </td></tr>\n",
       "\t<tr><td>0.007826805</td><td>10559      </td><td>0          </td><td> quick     </td></tr>\n",
       "\t<tr><td>0.009320974</td><td>11279      </td><td>0          </td><td> quick     </td></tr>\n",
       "\t<tr><td>0.009273052</td><td>12051      </td><td>0          </td><td> quick     </td></tr>\n",
       "\t<tr><td>0.009941101</td><td>12624      </td><td>0          </td><td> quick     </td></tr>\n",
       "\t<tr><td>0.009015083</td><td>11480      </td><td>0          </td><td> quick     </td></tr>\n",
       "\t<tr><td>0.008143902</td><td>10241      </td><td>0          </td><td> quick     </td></tr>\n",
       "\t<tr><td>0.009795904</td><td>12531      </td><td>0          </td><td> quick     </td></tr>\n",
       "\t<tr><td>0.008672953</td><td>11135      </td><td>0          </td><td> quick     </td></tr>\n",
       "\t<tr><td>0.009360075</td><td>11635      </td><td>0          </td><td> quick     </td></tr>\n",
       "\t<tr><td>0.008712053</td><td>10930      </td><td>0          </td><td> quick     </td></tr>\n",
       "\t<tr><td>0.008755922</td><td>11647      </td><td>0          </td><td> quick     </td></tr>\n",
       "\t<tr><td>0.008983612</td><td>11495      </td><td>0          </td><td> quick     </td></tr>\n",
       "\t<tr><td>0.008488894</td><td>11279      </td><td>0          </td><td> quick     </td></tr>\n",
       "\t<tr><td>0.008236170</td><td>11346      </td><td>0          </td><td> quick     </td></tr>\n",
       "\t<tr><td>0.007979155</td><td>10517      </td><td>0          </td><td> quick     </td></tr>\n",
       "\t<tr><td>0.008302689</td><td>11405      </td><td>0          </td><td> quick     </td></tr>\n",
       "\t<tr><td>0.007550955</td><td>10189      </td><td>0          </td><td> quick     </td></tr>\n",
       "\t<tr><td>0.008664131</td><td>11133      </td><td>0          </td><td> quick     </td></tr>\n",
       "\t<tr><td>0.008104801</td><td>10667      </td><td>0          </td><td> quick     </td></tr>\n",
       "\t<tr><td>0.008568048</td><td>11048      </td><td>0          </td><td> quick     </td></tr>\n",
       "\t<tr><td>0.008548021</td><td>11095      </td><td>0          </td><td> quick     </td></tr>\n",
       "\t<tr><td>0.008687735</td><td>11325      </td><td>0          </td><td> quick     </td></tr>\n",
       "\t<tr><td>0.008099079</td><td>10293      </td><td>0          </td><td> quick     </td></tr>\n",
       "\t<tr><td>0.009050846</td><td>11368      </td><td>0          </td><td> quick     </td></tr>\n",
       "\t<tr><td>⋮</td><td>⋮</td><td>⋮</td><td>⋮</td></tr>\n",
       "\t<tr><td>0.008512974</td><td>11014      </td><td>0          </td><td> quick     </td></tr>\n",
       "\t<tr><td>0.007696867</td><td>10264      </td><td>0          </td><td> quick     </td></tr>\n",
       "\t<tr><td>0.008329868</td><td>11018      </td><td>0          </td><td> quick     </td></tr>\n",
       "\t<tr><td>0.008393049</td><td>11203      </td><td>0          </td><td> quick     </td></tr>\n",
       "\t<tr><td>0.009438276</td><td>12457      </td><td>0          </td><td> quick     </td></tr>\n",
       "\t<tr><td>0.009675026</td><td>11994      </td><td>0          </td><td> quick     </td></tr>\n",
       "\t<tr><td>0.009262800</td><td>11739      </td><td>0          </td><td> quick     </td></tr>\n",
       "\t<tr><td>0.008259058</td><td>11248      </td><td>0          </td><td> quick     </td></tr>\n",
       "\t<tr><td>0.008112907</td><td>10679      </td><td>0          </td><td> quick     </td></tr>\n",
       "\t<tr><td>0.008758068</td><td>11312      </td><td>0          </td><td> quick     </td></tr>\n",
       "\t<tr><td>0.008563995</td><td>10960      </td><td>0          </td><td> quick     </td></tr>\n",
       "\t<tr><td>0.008285284</td><td>11116      </td><td>0          </td><td> quick     </td></tr>\n",
       "\t<tr><td>0.008313179</td><td>11088      </td><td>0          </td><td> quick     </td></tr>\n",
       "\t<tr><td>0.009310961</td><td>11788      </td><td>0          </td><td> quick     </td></tr>\n",
       "\t<tr><td>0.008383989</td><td>10883      </td><td>0          </td><td> quick     </td></tr>\n",
       "\t<tr><td>0.009146690</td><td>11609      </td><td>0          </td><td> quick     </td></tr>\n",
       "\t<tr><td>0.009023905</td><td>11109      </td><td>0          </td><td> quick     </td></tr>\n",
       "\t<tr><td>0.009086847</td><td>12132      </td><td>0          </td><td> quick     </td></tr>\n",
       "\t<tr><td>0.008636951</td><td>11172      </td><td>0          </td><td> quick     </td></tr>\n",
       "\t<tr><td>0.008950949</td><td>11372      </td><td>0          </td><td> quick     </td></tr>\n",
       "\t<tr><td>0.008705139</td><td>10530      </td><td>0          </td><td> quick     </td></tr>\n",
       "\t<tr><td>0.009332418</td><td>11812      </td><td>0          </td><td> quick     </td></tr>\n",
       "\t<tr><td>0.009155035</td><td>11383      </td><td>0          </td><td> quick     </td></tr>\n",
       "\t<tr><td>0.009232044</td><td>11314      </td><td>0          </td><td> quick     </td></tr>\n",
       "\t<tr><td>0.008771181</td><td>11372      </td><td>0          </td><td> quick     </td></tr>\n",
       "\t<tr><td>0.008647919</td><td>10771      </td><td>0          </td><td> quick     </td></tr>\n",
       "\t<tr><td>0.008643866</td><td>10549      </td><td>0          </td><td> quick     </td></tr>\n",
       "\t<tr><td>0.008090258</td><td>11119      </td><td>0          </td><td> quick     </td></tr>\n",
       "\t<tr><td>0.008596182</td><td>11157      </td><td>0          </td><td> quick     </td></tr>\n",
       "\t<tr><td>0.008485079</td><td>10966      </td><td>0          </td><td> quick     </td></tr>\n",
       "</tbody>\n",
       "</table>\n"
      ],
      "text/latex": [
       "\\begin{tabular}{r|llll}\n",
       " V1 & V2 & V3 & V4\\\\\n",
       "\\hline\n",
       "\t 0.009425879 & 11644       & 0           &  quick     \\\\\n",
       "\t 0.009166002 & 11788       & 0           &  quick     \\\\\n",
       "\t 0.009787083 & 11716       & 0           &  quick     \\\\\n",
       "\t 0.008512735 & 11077       & 0           &  quick     \\\\\n",
       "\t 0.008795261 & 11206       & 0           &  quick     \\\\\n",
       "\t 0.008638859 & 10734       & 0           &  quick     \\\\\n",
       "\t 0.007826805 & 10559       & 0           &  quick     \\\\\n",
       "\t 0.009320974 & 11279       & 0           &  quick     \\\\\n",
       "\t 0.009273052 & 12051       & 0           &  quick     \\\\\n",
       "\t 0.009941101 & 12624       & 0           &  quick     \\\\\n",
       "\t 0.009015083 & 11480       & 0           &  quick     \\\\\n",
       "\t 0.008143902 & 10241       & 0           &  quick     \\\\\n",
       "\t 0.009795904 & 12531       & 0           &  quick     \\\\\n",
       "\t 0.008672953 & 11135       & 0           &  quick     \\\\\n",
       "\t 0.009360075 & 11635       & 0           &  quick     \\\\\n",
       "\t 0.008712053 & 10930       & 0           &  quick     \\\\\n",
       "\t 0.008755922 & 11647       & 0           &  quick     \\\\\n",
       "\t 0.008983612 & 11495       & 0           &  quick     \\\\\n",
       "\t 0.008488894 & 11279       & 0           &  quick     \\\\\n",
       "\t 0.008236170 & 11346       & 0           &  quick     \\\\\n",
       "\t 0.007979155 & 10517       & 0           &  quick     \\\\\n",
       "\t 0.008302689 & 11405       & 0           &  quick     \\\\\n",
       "\t 0.007550955 & 10189       & 0           &  quick     \\\\\n",
       "\t 0.008664131 & 11133       & 0           &  quick     \\\\\n",
       "\t 0.008104801 & 10667       & 0           &  quick     \\\\\n",
       "\t 0.008568048 & 11048       & 0           &  quick     \\\\\n",
       "\t 0.008548021 & 11095       & 0           &  quick     \\\\\n",
       "\t 0.008687735 & 11325       & 0           &  quick     \\\\\n",
       "\t 0.008099079 & 10293       & 0           &  quick     \\\\\n",
       "\t 0.009050846 & 11368       & 0           &  quick     \\\\\n",
       "\t ⋮ & ⋮ & ⋮ & ⋮\\\\\n",
       "\t 0.008512974 & 11014       & 0           &  quick     \\\\\n",
       "\t 0.007696867 & 10264       & 0           &  quick     \\\\\n",
       "\t 0.008329868 & 11018       & 0           &  quick     \\\\\n",
       "\t 0.008393049 & 11203       & 0           &  quick     \\\\\n",
       "\t 0.009438276 & 12457       & 0           &  quick     \\\\\n",
       "\t 0.009675026 & 11994       & 0           &  quick     \\\\\n",
       "\t 0.009262800 & 11739       & 0           &  quick     \\\\\n",
       "\t 0.008259058 & 11248       & 0           &  quick     \\\\\n",
       "\t 0.008112907 & 10679       & 0           &  quick     \\\\\n",
       "\t 0.008758068 & 11312       & 0           &  quick     \\\\\n",
       "\t 0.008563995 & 10960       & 0           &  quick     \\\\\n",
       "\t 0.008285284 & 11116       & 0           &  quick     \\\\\n",
       "\t 0.008313179 & 11088       & 0           &  quick     \\\\\n",
       "\t 0.009310961 & 11788       & 0           &  quick     \\\\\n",
       "\t 0.008383989 & 10883       & 0           &  quick     \\\\\n",
       "\t 0.009146690 & 11609       & 0           &  quick     \\\\\n",
       "\t 0.009023905 & 11109       & 0           &  quick     \\\\\n",
       "\t 0.009086847 & 12132       & 0           &  quick     \\\\\n",
       "\t 0.008636951 & 11172       & 0           &  quick     \\\\\n",
       "\t 0.008950949 & 11372       & 0           &  quick     \\\\\n",
       "\t 0.008705139 & 10530       & 0           &  quick     \\\\\n",
       "\t 0.009332418 & 11812       & 0           &  quick     \\\\\n",
       "\t 0.009155035 & 11383       & 0           &  quick     \\\\\n",
       "\t 0.009232044 & 11314       & 0           &  quick     \\\\\n",
       "\t 0.008771181 & 11372       & 0           &  quick     \\\\\n",
       "\t 0.008647919 & 10771       & 0           &  quick     \\\\\n",
       "\t 0.008643866 & 10549       & 0           &  quick     \\\\\n",
       "\t 0.008090258 & 11119       & 0           &  quick     \\\\\n",
       "\t 0.008596182 & 11157       & 0           &  quick     \\\\\n",
       "\t 0.008485079 & 10966       & 0           &  quick     \\\\\n",
       "\\end{tabular}\n"
      ],
      "text/markdown": [
       "\n",
       "V1 | V2 | V3 | V4 | \n",
       "|---|---|---|---|---|---|---|---|---|---|---|---|---|---|---|---|---|---|---|---|---|---|---|---|---|---|---|---|---|---|---|---|---|---|---|---|---|---|---|---|---|---|---|---|---|---|---|---|---|---|---|---|---|---|---|---|---|---|---|---|---|\n",
       "| 0.009425879 | 11644       | 0           |  quick      | \n",
       "| 0.009166002 | 11788       | 0           |  quick      | \n",
       "| 0.009787083 | 11716       | 0           |  quick      | \n",
       "| 0.008512735 | 11077       | 0           |  quick      | \n",
       "| 0.008795261 | 11206       | 0           |  quick      | \n",
       "| 0.008638859 | 10734       | 0           |  quick      | \n",
       "| 0.007826805 | 10559       | 0           |  quick      | \n",
       "| 0.009320974 | 11279       | 0           |  quick      | \n",
       "| 0.009273052 | 12051       | 0           |  quick      | \n",
       "| 0.009941101 | 12624       | 0           |  quick      | \n",
       "| 0.009015083 | 11480       | 0           |  quick      | \n",
       "| 0.008143902 | 10241       | 0           |  quick      | \n",
       "| 0.009795904 | 12531       | 0           |  quick      | \n",
       "| 0.008672953 | 11135       | 0           |  quick      | \n",
       "| 0.009360075 | 11635       | 0           |  quick      | \n",
       "| 0.008712053 | 10930       | 0           |  quick      | \n",
       "| 0.008755922 | 11647       | 0           |  quick      | \n",
       "| 0.008983612 | 11495       | 0           |  quick      | \n",
       "| 0.008488894 | 11279       | 0           |  quick      | \n",
       "| 0.008236170 | 11346       | 0           |  quick      | \n",
       "| 0.007979155 | 10517       | 0           |  quick      | \n",
       "| 0.008302689 | 11405       | 0           |  quick      | \n",
       "| 0.007550955 | 10189       | 0           |  quick      | \n",
       "| 0.008664131 | 11133       | 0           |  quick      | \n",
       "| 0.008104801 | 10667       | 0           |  quick      | \n",
       "| 0.008568048 | 11048       | 0           |  quick      | \n",
       "| 0.008548021 | 11095       | 0           |  quick      | \n",
       "| 0.008687735 | 11325       | 0           |  quick      | \n",
       "| 0.008099079 | 10293       | 0           |  quick      | \n",
       "| 0.009050846 | 11368       | 0           |  quick      | \n",
       "| ⋮ | ⋮ | ⋮ | ⋮ | \n",
       "| 0.008512974 | 11014       | 0           |  quick      | \n",
       "| 0.007696867 | 10264       | 0           |  quick      | \n",
       "| 0.008329868 | 11018       | 0           |  quick      | \n",
       "| 0.008393049 | 11203       | 0           |  quick      | \n",
       "| 0.009438276 | 12457       | 0           |  quick      | \n",
       "| 0.009675026 | 11994       | 0           |  quick      | \n",
       "| 0.009262800 | 11739       | 0           |  quick      | \n",
       "| 0.008259058 | 11248       | 0           |  quick      | \n",
       "| 0.008112907 | 10679       | 0           |  quick      | \n",
       "| 0.008758068 | 11312       | 0           |  quick      | \n",
       "| 0.008563995 | 10960       | 0           |  quick      | \n",
       "| 0.008285284 | 11116       | 0           |  quick      | \n",
       "| 0.008313179 | 11088       | 0           |  quick      | \n",
       "| 0.009310961 | 11788       | 0           |  quick      | \n",
       "| 0.008383989 | 10883       | 0           |  quick      | \n",
       "| 0.009146690 | 11609       | 0           |  quick      | \n",
       "| 0.009023905 | 11109       | 0           |  quick      | \n",
       "| 0.009086847 | 12132       | 0           |  quick      | \n",
       "| 0.008636951 | 11172       | 0           |  quick      | \n",
       "| 0.008950949 | 11372       | 0           |  quick      | \n",
       "| 0.008705139 | 10530       | 0           |  quick      | \n",
       "| 0.009332418 | 11812       | 0           |  quick      | \n",
       "| 0.009155035 | 11383       | 0           |  quick      | \n",
       "| 0.009232044 | 11314       | 0           |  quick      | \n",
       "| 0.008771181 | 11372       | 0           |  quick      | \n",
       "| 0.008647919 | 10771       | 0           |  quick      | \n",
       "| 0.008643866 | 10549       | 0           |  quick      | \n",
       "| 0.008090258 | 11119       | 0           |  quick      | \n",
       "| 0.008596182 | 11157       | 0           |  quick      | \n",
       "| 0.008485079 | 10966       | 0           |  quick      | \n",
       "\n",
       "\n"
      ],
      "text/plain": [
       "    V1          V2    V3 V4    \n",
       "1   0.009425879 11644 0   quick\n",
       "2   0.009166002 11788 0   quick\n",
       "3   0.009787083 11716 0   quick\n",
       "4   0.008512735 11077 0   quick\n",
       "5   0.008795261 11206 0   quick\n",
       "6   0.008638859 10734 0   quick\n",
       "7   0.007826805 10559 0   quick\n",
       "8   0.009320974 11279 0   quick\n",
       "9   0.009273052 12051 0   quick\n",
       "10  0.009941101 12624 0   quick\n",
       "11  0.009015083 11480 0   quick\n",
       "12  0.008143902 10241 0   quick\n",
       "13  0.009795904 12531 0   quick\n",
       "14  0.008672953 11135 0   quick\n",
       "15  0.009360075 11635 0   quick\n",
       "16  0.008712053 10930 0   quick\n",
       "17  0.008755922 11647 0   quick\n",
       "18  0.008983612 11495 0   quick\n",
       "19  0.008488894 11279 0   quick\n",
       "20  0.008236170 11346 0   quick\n",
       "21  0.007979155 10517 0   quick\n",
       "22  0.008302689 11405 0   quick\n",
       "23  0.007550955 10189 0   quick\n",
       "24  0.008664131 11133 0   quick\n",
       "25  0.008104801 10667 0   quick\n",
       "26  0.008568048 11048 0   quick\n",
       "27  0.008548021 11095 0   quick\n",
       "28  0.008687735 11325 0   quick\n",
       "29  0.008099079 10293 0   quick\n",
       "30  0.009050846 11368 0   quick\n",
       "⋮   ⋮           ⋮     ⋮  ⋮     \n",
       "383 0.008512974 11014 0   quick\n",
       "384 0.007696867 10264 0   quick\n",
       "385 0.008329868 11018 0   quick\n",
       "386 0.008393049 11203 0   quick\n",
       "387 0.009438276 12457 0   quick\n",
       "388 0.009675026 11994 0   quick\n",
       "389 0.009262800 11739 0   quick\n",
       "390 0.008259058 11248 0   quick\n",
       "391 0.008112907 10679 0   quick\n",
       "392 0.008758068 11312 0   quick\n",
       "393 0.008563995 10960 0   quick\n",
       "394 0.008285284 11116 0   quick\n",
       "395 0.008313179 11088 0   quick\n",
       "396 0.009310961 11788 0   quick\n",
       "397 0.008383989 10883 0   quick\n",
       "398 0.009146690 11609 0   quick\n",
       "399 0.009023905 11109 0   quick\n",
       "400 0.009086847 12132 0   quick\n",
       "401 0.008636951 11172 0   quick\n",
       "402 0.008950949 11372 0   quick\n",
       "403 0.008705139 10530 0   quick\n",
       "404 0.009332418 11812 0   quick\n",
       "405 0.009155035 11383 0   quick\n",
       "406 0.009232044 11314 0   quick\n",
       "407 0.008771181 11372 0   quick\n",
       "408 0.008647919 10771 0   quick\n",
       "409 0.008643866 10549 0   quick\n",
       "410 0.008090258 11119 0   quick\n",
       "411 0.008596182 11157 0   quick\n",
       "412 0.008485079 10966 0   quick"
      ]
     },
     "metadata": {},
     "output_type": "display_data"
    }
   ],
   "source": [
    "data.frame(read.csv(file = paste(\"data_raw/1/quick_\", x, \".txt\", sep=\"\"), header = 0))"
   ]
  },
  {
   "cell_type": "code",
   "execution_count": null,
   "metadata": {},
   "outputs": [],
   "source": []
  },
  {
   "cell_type": "code",
   "execution_count": null,
   "metadata": {},
   "outputs": [],
   "source": []
  }
 ],
 "metadata": {
  "kernelspec": {
   "display_name": "R",
   "language": "R",
   "name": "ir"
  },
  "language_info": {
   "codemirror_mode": "r",
   "file_extension": ".r",
   "mimetype": "text/x-r-source",
   "name": "R",
   "pygments_lexer": "r",
   "version": "3.5.1"
  }
 },
 "nbformat": 4,
 "nbformat_minor": 2
}
