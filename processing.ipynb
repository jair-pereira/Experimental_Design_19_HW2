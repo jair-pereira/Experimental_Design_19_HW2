{
 "cells": [
  {
   "cell_type": "code",
   "execution_count": 1,
   "metadata": {},
   "outputs": [],
   "source": [
    "import pandas as pd\n",
    "import numpy as np\n",
    "import os"
   ]
  },
  {
   "cell_type": "code",
   "execution_count": 4,
   "metadata": {},
   "outputs": [],
   "source": [
    "os.mkdir(\"data_p\")\n",
    "os.mkdir(\"data_p/0.5\")\n",
    "os.mkdir(\"data_p/1\")\n",
    "os.mkdir(\"data_p/0.25\")\n",
    "os.mkdir(\"data_p/0.75\")"
   ]
  },
  {
   "cell_type": "code",
   "execution_count": 5,
   "metadata": {},
   "outputs": [],
   "source": [
    "for a in [\"bubble\", \"quick\"]:\n",
    "    for f in [\"1\", \"0.5\", \"0.25\", \"0.75\"]:\n",
    "        rows = []\n",
    "        for i in [2, 4, 8, 16, 32, 64, 128, 256, 512, 1024]:\n",
    "            raw = pd.read_csv(\"data_raw/\"+f+\"/\"+a+\"_\"+str(i)+\".txt\", names = [\"TIME\", \"COMP\", \"ERR\", \"ALG\"])\n",
    "\n",
    "            rows = rows + [[i, raw[\"TIME\"].mean(), raw[\"COMP\"].mean(), raw[\"ERR\"].mean(),\n",
    "                    raw[\"TIME\"].std(),raw[\"COMP\"].std(),raw[\"ERR\"].std()\n",
    "                  ]]\n",
    "\n",
    "\n",
    "        data_p = pd.DataFrame(rows, columns=ÚÆÆÆ)\n",
    "        data_p.to_csv(\"data_p/\"+f+\"/\"+a+\".txt\", index=False)"
   ]
  },
  {
   "cell_type": "code",
   "execution_count": null,
   "metadata": {},
   "outputs": [],
   "source": []
  },
  {
   "cell_type": "code",
   "execution_count": null,
   "metadata": {},
   "outputs": [],
   "source": []
  },
  {
   "cell_type": "code",
   "execution_count": null,
   "metadata": {},
   "outputs": [],
   "source": []
  },
  {
   "cell_type": "code",
   "execution_count": null,
   "metadata": {},
   "outputs": [],
   "source": []
  },
  {
   "cell_type": "code",
   "execution_count": null,
   "metadata": {},
   "outputs": [],
   "source": []
  }
 ],
 "metadata": {
  "kernelspec": {
   "display_name": "Python 3",
   "language": "python",
   "name": "python3"
  },
  "language_info": {
   "codemirror_mode": {
    "name": "ipython",
    "version": 3
   },
   "file_extension": ".py",
   "mimetype": "text/x-python",
   "name": "python",
   "nbconvert_exporter": "python",
   "pygments_lexer": "ipython3",
   "version": "3.6.6"
  }
 },
 "nbformat": 4,
 "nbformat_minor": 2
}
