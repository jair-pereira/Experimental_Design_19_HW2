{
 "cells": [
  {
   "cell_type": "markdown",
   "metadata": {},
   "source": [
    "## GATHER DATA"
   ]
  },
  {
   "cell_type": "code",
   "execution_count": 6,
   "metadata": {},
   "outputs": [],
   "source": [
    "import os"
   ]
  },
  {
   "cell_type": "code",
   "execution_count": 10,
   "metadata": {},
   "outputs": [],
   "source": [
    "path1 = \"data_raw/\"\n",
    "path2 = [\"0.25/\", \"0.5/\", \"0.75/\", \"1/\"]\n",
    "path3 = \"data_p/\"\n",
    "\n",
    "if not os.path.exists(path1):\n",
    "    os.mkdir(path1)\n",
    "\n",
    "for p in path2:\n",
    "    if not os.path.exists(path1+p):\n",
    "        os.mkdir(path1+p)\n",
    "        \n",
    "if not os.path.exists(path3):\n",
    "    os.mkdir(path3)\n",
    "\n",
    "for p in path2:\n",
    "    if not os.path.exists(path3+p):\n",
    "        os.mkdir(path3+p)"
   ]
  },
  {
   "cell_type": "code",
   "execution_count": null,
   "metadata": {},
   "outputs": [],
   "source": [
    "def gather(a, f, n, rep):\n",
    "    print(n, f)\n",
    "    output = a+\"_\"+str(n)+\".txt\"\n",
    "    for r in range(rep):\n",
    "        os.system(\"python sort.py -n \"+str(n)+\" -a \"+a+\" -f \"+str(f)+\" >> \"+path1+str(f)+\"/\"+output)"
   ]
  },
  {
   "cell_type": "markdown",
   "metadata": {},
   "source": [
    "## Question 1 and 2"
   ]
  },
  {
   "cell_type": "code",
   "execution_count": null,
   "metadata": {},
   "outputs": [],
   "source": [
    "# input sizes for question (1) and (2)\n",
    "n = [2, 4, 8, 16, 32, 64, 128, 256, 512, 1024, 2048, 2896, 4096]"
   ]
  },
  {
   "cell_type": "code",
   "execution_count": null,
   "metadata": {},
   "outputs": [],
   "source": [
    "[gather(\"quick\", 1, i, 206) for i in n]"
   ]
  },
  {
   "cell_type": "code",
   "execution_count": null,
   "metadata": {},
   "outputs": [],
   "source": [
    "[gather(\"bubble\", 1, i, 206) for i in n]"
   ]
  },
  {
   "cell_type": "markdown",
   "metadata": {},
   "source": [
    "## Question 3"
   ]
  },
  {
   "cell_type": "code",
   "execution_count": null,
   "metadata": {},
   "outputs": [],
   "source": [
    "n = [8, 32, 128, 512, 1024, 2048, 4096] # input size for question (3)\n",
    "f = [0.25, 0.50, 0.75]    # success rate for question (3)"
   ]
  },
  {
   "cell_type": "code",
   "execution_count": null,
   "metadata": {},
   "outputs": [],
   "source": [
    "[gather(\"quick\", j, i, 206) for i in n for j in f]"
   ]
  },
  {
   "cell_type": "code",
   "execution_count": null,
   "metadata": {},
   "outputs": [],
   "source": [
    "[gather(\"bubble\", j, i, 206) for i in n for j in f]"
   ]
  },
  {
   "cell_type": "markdown",
   "metadata": {},
   "source": [
    "## Calculate Mean and Standard Deviation"
   ]
  },
  {
   "cell_type": "code",
   "execution_count": 2,
   "metadata": {},
   "outputs": [],
   "source": [
    "import pandas as pd\n",
    "import numpy as np"
   ]
  },
  {
   "cell_type": "code",
   "execution_count": null,
   "metadata": {},
   "outputs": [],
   "source": [
    "for a in [\"bubble\", \"quick\"]:\n",
    "    f = 1\n",
    "    rows = []\n",
    "    for i in [2, 4, 8, 16, 32, 64, 128, 256, 512, 1024, 2048, 2896, 4096]:\n",
    "        raw = pd.read_csv(\"data_raw/\"+f+\"/\"+a+\"_\"+str(i)+\".txt\", names = [\"TIME\", \"COMP\", \"ERR\", \"ALG\"])\n",
    "\n",
    "        rows = rows + [[i, raw[\"TIME\"].mean(), raw[\"COMP\"].mean(), raw[\"ERR\"].mean(),\n",
    "                raw[\"TIME\"].std(),raw[\"COMP\"].std(),raw[\"ERR\"].std()\n",
    "              ]]\n",
    "\n",
    "\n",
    "    data_p = pd.DataFrame(rows, columns=[\"N\", \"TIME_MEAN\", \"COMP_MEAN\", \"ERR_MEAN\", \"TIME_SD\", \"COMP_SD\", \"ERR_SD\"])\n",
    "    data_p.to_csv(path3+f+\"/\"+a+\".txt\", index=False)"
   ]
  },
  {
   "cell_type": "code",
   "execution_count": 11,
   "metadata": {},
   "outputs": [],
   "source": [
    "for a in [\"bubble\", \"quick\"]:\n",
    "    for f in [\"0.5\", \"0.25\", \"0.75\"]:\n",
    "        rows = []\n",
    "        for i in [8, 32, 128, 512, 1024, 2048, 4096]:\n",
    "            raw = pd.read_csv(\"data_raw/\"+f+\"/\"+a+\"_\"+str(i)+\".txt\", names = [\"TIME\", \"COMP\", \"ERR\", \"ALG\"])\n",
    "\n",
    "            rows = rows + [[i, raw[\"TIME\"].mean(), raw[\"COMP\"].mean(), raw[\"ERR\"].mean(),\n",
    "                    raw[\"TIME\"].std(),raw[\"COMP\"].std(),raw[\"ERR\"].std()\n",
    "                  ]]\n",
    "\n",
    "\n",
    "        data_p = pd.DataFrame(rows, columns=[\"N\", \"TIME_MEAN\", \"COMP_MEAN\", \"ERR_MEAN\", \"TIME_SD\", \"COMP_SD\", \"ERR_SD\"])\n",
    "        data_p.to_csv(path3+f+\"/\"+a+\".txt\", index=False)"
   ]
  }
 ],
 "metadata": {
  "kernelspec": {
   "display_name": "Python 3",
   "language": "python",
   "name": "python3"
  },
  "language_info": {
   "codemirror_mode": {
    "name": "ipython",
    "version": 3
   },
   "file_extension": ".py",
   "mimetype": "text/x-python",
   "name": "python",
   "nbconvert_exporter": "python",
   "pygments_lexer": "ipython3",
   "version": "3.6.5"
  }
 },
 "nbformat": 4,
 "nbformat_minor": 2
}
